{
 "cells": [
  {
   "cell_type": "code",
   "execution_count": 2,
   "metadata": {},
   "outputs": [],
   "source": [
    "import numpy as np"
   ]
  },
  {
   "cell_type": "code",
   "execution_count": 11,
   "metadata": {},
   "outputs": [],
   "source": [
    "x = np.array([[1,2],[3,4]])"
   ]
  },
  {
   "cell_type": "code",
   "execution_count": 12,
   "metadata": {},
   "outputs": [
    {
     "data": {
      "text/plain": [
       "array([[1, 2],\n",
       "       [3, 4]])"
      ]
     },
     "execution_count": 12,
     "metadata": {},
     "output_type": "execute_result"
    }
   ],
   "source": [
    "x"
   ]
  },
  {
   "cell_type": "code",
   "execution_count": 13,
   "metadata": {},
   "outputs": [],
   "source": [
    "x = np.array(([1,2],[3,4]))"
   ]
  },
  {
   "cell_type": "code",
   "execution_count": 14,
   "metadata": {},
   "outputs": [
    {
     "data": {
      "text/plain": [
       "array([[1, 2],\n",
       "       [3, 4]])"
      ]
     },
     "execution_count": 14,
     "metadata": {},
     "output_type": "execute_result"
    }
   ],
   "source": [
    "x"
   ]
  },
  {
   "cell_type": "code",
   "execution_count": null,
   "metadata": {},
   "outputs": [],
   "source": []
  },
  {
   "cell_type": "code",
   "execution_count": 1,
   "metadata": {},
   "outputs": [
    {
     "name": "stdout",
     "output_type": "stream",
     "text": [
      "1.1.0\n"
     ]
    }
   ],
   "source": [
    "import torch\n",
    "print(torch.__version__)"
   ]
  },
  {
   "cell_type": "code",
   "execution_count": null,
   "metadata": {},
   "outputs": [],
   "source": []
  },
  {
   "cell_type": "code",
   "execution_count": null,
   "metadata": {},
   "outputs": [],
   "source": []
  },
  {
   "cell_type": "code",
   "execution_count": 1,
   "metadata": {},
   "outputs": [],
   "source": [
    "import yaml"
   ]
  },
  {
   "cell_type": "code",
   "execution_count": 8,
   "metadata": {},
   "outputs": [],
   "source": [
    "config_path =  './config.yaml' # sys.argv[1]\n",
    "seed = 123                     # int(sys.argv[2])\n",
    "config = yaml.safe_load(open(config_path,'r'))"
   ]
  },
  {
   "cell_type": "code",
   "execution_count": 9,
   "metadata": {},
   "outputs": [
    {
     "name": "stdout",
     "output_type": "stream",
     "text": [
      "True\n"
     ]
    }
   ],
   "source": [
    "print(config['use_gpu'])"
   ]
  },
  {
   "cell_type": "code",
   "execution_count": 10,
   "metadata": {},
   "outputs": [
    {
     "name": "stdout",
     "output_type": "stream",
     "text": [
      "data/train/\n"
     ]
    }
   ],
   "source": [
    "print(config['train_data_path'])"
   ]
  },
  {
   "cell_type": "code",
   "execution_count": 1,
   "metadata": {},
   "outputs": [
    {
     "name": "stdout",
     "output_type": "stream",
     "text": [
      "[NbConvertApp] Converting notebook dqn-cartpole.ipynb to script\n",
      "[NbConvertApp] Writing 7452 bytes to dqn-cartpole.py\n"
     ]
    }
   ],
   "source": [
    "!jupyter nbconvert --to script dqn-cartpole.ipynb"
   ]
  },
  {
   "cell_type": "code",
   "execution_count": 2,
   "metadata": {},
   "outputs": [
    {
     "data": {
      "text/plain": [
       "\u001b[0;31mDocstring:\u001b[0m\n",
       "Time execution of a Python statement or expression.\n",
       "\n",
       "The CPU and wall clock times are printed, and the value of the\n",
       "expression (if any) is returned.  Note that under Win32, system time\n",
       "is always reported as 0, since it can not be measured.\n",
       "\n",
       "This function can be used both as a line and cell magic:\n",
       "\n",
       "- In line mode you can time a single-line statement (though multiple\n",
       "  ones can be chained with using semicolons).\n",
       "\n",
       "- In cell mode, you can time the cell body (a directly\n",
       "  following statement raises an error).\n",
       "\n",
       "This function provides very basic timing functionality.  Use the timeit\n",
       "magic for more control over the measurement.\n",
       "\n",
       ".. versionchanged:: 7.3\n",
       "    User variables are no longer expanded,\n",
       "    the magic line is always left unmodified.\n",
       "\n",
       "Examples\n",
       "--------\n",
       "::\n",
       "\n",
       "  In [1]: %time 2**128\n",
       "  CPU times: user 0.00 s, sys: 0.00 s, total: 0.00 s\n",
       "  Wall time: 0.00\n",
       "  Out[1]: 340282366920938463463374607431768211456L\n",
       "\n",
       "  In [2]: n = 1000000\n",
       "\n",
       "  In [3]: %time sum(range(n))\n",
       "  CPU times: user 1.20 s, sys: 0.05 s, total: 1.25 s\n",
       "  Wall time: 1.37\n",
       "  Out[3]: 499999500000L\n",
       "\n",
       "  In [4]: %time print 'hello world'\n",
       "  hello world\n",
       "  CPU times: user 0.00 s, sys: 0.00 s, total: 0.00 s\n",
       "  Wall time: 0.00\n",
       "\n",
       "  Note that the time needed by Python to compile the given expression\n",
       "  will be reported if it is more than 0.1s.  In this example, the\n",
       "  actual exponentiation is done by Python at compilation time, so while\n",
       "  the expression can take a noticeable amount of time to compute, that\n",
       "  time is purely due to the compilation:\n",
       "\n",
       "  In [5]: %time 3**9999;\n",
       "  CPU times: user 0.00 s, sys: 0.00 s, total: 0.00 s\n",
       "  Wall time: 0.00 s\n",
       "\n",
       "  In [6]: %time 3**999999;\n",
       "  CPU times: user 0.00 s, sys: 0.00 s, total: 0.00 s\n",
       "  Wall time: 0.00 s\n",
       "  Compiler : 0.78 s\n",
       "  \n",
       "\u001b[0;31mFile:\u001b[0m      ~/anaconda3/envs/torchflow/lib/python3.6/site-packages/IPython/core/magics/execution.py\n"
      ]
     },
     "metadata": {},
     "output_type": "display_data"
    }
   ],
   "source": [
    "%time?"
   ]
  },
  {
   "cell_type": "code",
   "execution_count": 3,
   "metadata": {},
   "outputs": [
    {
     "data": {
      "text/plain": [
       "{'LC_PAPER': 'ja_JP.UTF-8',\n",
       " 'XDG_VTNR': '7',\n",
       " 'XDG_SESSION_ID': 'c2',\n",
       " 'LC_ADDRESS': 'ja_JP.UTF-8',\n",
       " 'CLUTTER_IM_MODULE': 'xim',\n",
       " 'LC_MONETARY': 'ja_JP.UTF-8',\n",
       " 'XDG_GREETER_DATA_DIR': '/var/lib/lightdm-data/bhootmali',\n",
       " 'GPG_AGENT_INFO': '/home/bhootmali/.gnupg/S.gpg-agent:0:1',\n",
       " 'VTE_VERSION': '4205',\n",
       " 'SHELL': '/bin/bash',\n",
       " 'TERM': 'xterm-color',\n",
       " 'QT_LINUX_ACCESSIBILITY_ALWAYS_ON': '1',\n",
       " 'CONDA_SHLVL': '2',\n",
       " 'CONDA_PROMPT_MODIFIER': '(torchflow) ',\n",
       " 'LC_NUMERIC': 'ja_JP.UTF-8',\n",
       " 'WINDOWID': '73417765',\n",
       " 'GNOME_KEYRING_CONTROL': '',\n",
       " 'UPSTART_SESSION': 'unix:abstract=/com/ubuntu/upstart-session/1000/5096',\n",
       " 'GTK_MODULES': 'gail:atk-bridge:unity-gtk-module',\n",
       " 'USER': 'bhootmali',\n",
       " 'LD_LIBRARY_PATH': '/usr/local/cuda-9.0/lib64',\n",
       " 'QT_ACCESSIBILITY': '1',\n",
       " 'LC_TELEPHONE': 'ja_JP.UTF-8',\n",
       " 'LS_COLORS': 'rs=0:di=01;34:ln=01;36:mh=00:pi=40;33:so=01;35:do=01;35:bd=40;33;01:cd=40;33;01:or=40;31;01:mi=00:su=37;41:sg=30;43:ca=30;41:tw=30;42:ow=34;42:st=37;44:ex=01;32:*.tar=01;31:*.tgz=01;31:*.arc=01;31:*.arj=01;31:*.taz=01;31:*.lha=01;31:*.lz4=01;31:*.lzh=01;31:*.lzma=01;31:*.tlz=01;31:*.txz=01;31:*.tzo=01;31:*.t7z=01;31:*.zip=01;31:*.z=01;31:*.Z=01;31:*.dz=01;31:*.gz=01;31:*.lrz=01;31:*.lz=01;31:*.lzo=01;31:*.xz=01;31:*.bz2=01;31:*.bz=01;31:*.tbz=01;31:*.tbz2=01;31:*.tz=01;31:*.deb=01;31:*.rpm=01;31:*.jar=01;31:*.war=01;31:*.ear=01;31:*.sar=01;31:*.rar=01;31:*.alz=01;31:*.ace=01;31:*.zoo=01;31:*.cpio=01;31:*.7z=01;31:*.rz=01;31:*.cab=01;31:*.jpg=01;35:*.jpeg=01;35:*.gif=01;35:*.bmp=01;35:*.pbm=01;35:*.pgm=01;35:*.ppm=01;35:*.tga=01;35:*.xbm=01;35:*.xpm=01;35:*.tif=01;35:*.tiff=01;35:*.png=01;35:*.svg=01;35:*.svgz=01;35:*.mng=01;35:*.pcx=01;35:*.mov=01;35:*.mpg=01;35:*.mpeg=01;35:*.m2v=01;35:*.mkv=01;35:*.webm=01;35:*.ogm=01;35:*.mp4=01;35:*.m4v=01;35:*.mp4v=01;35:*.vob=01;35:*.qt=01;35:*.nuv=01;35:*.wmv=01;35:*.asf=01;35:*.rm=01;35:*.rmvb=01;35:*.flc=01;35:*.avi=01;35:*.fli=01;35:*.flv=01;35:*.gl=01;35:*.dl=01;35:*.xcf=01;35:*.xwd=01;35:*.yuv=01;35:*.cgm=01;35:*.emf=01;35:*.ogv=01;35:*.ogx=01;35:*.aac=00;36:*.au=00;36:*.flac=00;36:*.m4a=00;36:*.mid=00;36:*.midi=00;36:*.mka=00;36:*.mp3=00;36:*.mpc=00;36:*.ogg=00;36:*.ra=00;36:*.wav=00;36:*.oga=00;36:*.opus=00;36:*.spx=00;36:*.xspf=00;36:',\n",
       " 'XDG_SESSION_PATH': '/org/freedesktop/DisplayManager/Session0',\n",
       " 'CONDA_EXE': '/home/bhootmali/anaconda3/bin/conda',\n",
       " 'XDG_SEAT_PATH': '/org/freedesktop/DisplayManager/Seat0',\n",
       " 'SSH_AUTH_SOCK': '/run/user/1000/keyring/ssh',\n",
       " 'TERMCAP': 'SC|screen.xterm-256color|VT 100/ANSI X3.64 virtual terminal:\\\\\\n\\t:DO=\\\\E[%dB:LE=\\\\E[%dD:RI=\\\\E[%dC:UP=\\\\E[%dA:bs:bt=\\\\E[Z:\\\\\\n\\t:cd=\\\\E[J:ce=\\\\E[K:cl=\\\\E[H\\\\E[J:cm=\\\\E[%i%d;%dH:ct=\\\\E[3g:\\\\\\n\\t:do=^J:nd=\\\\E[C:pt:rc=\\\\E8:rs=\\\\Ec:sc=\\\\E7:st=\\\\EH:up=\\\\EM:\\\\\\n\\t:le=^H:bl=^G:cr=^M:it#8:ho=\\\\E[H:nw=\\\\EE:ta=^I:is=\\\\E)0:\\\\\\n\\t:li#24:co#80:am:xn:xv:LP:sr=\\\\EM:al=\\\\E[L:AL=\\\\E[%dL:\\\\\\n\\t:cs=\\\\E[%i%d;%dr:dl=\\\\E[M:DL=\\\\E[%dM:dc=\\\\E[P:DC=\\\\E[%dP:\\\\\\n\\t:im=\\\\E[4h:ei=\\\\E[4l:mi:IC=\\\\E[%d@:ks=\\\\E[?1h\\\\E=:\\\\\\n\\t:ke=\\\\E[?1l\\\\E>:vi=\\\\E[?25l:ve=\\\\E[34h\\\\E[?25h:vs=\\\\E[34l:\\\\\\n\\t:ti=\\\\E[?1049h:te=\\\\E[?1049l:us=\\\\E[4m:ue=\\\\E[24m:so=\\\\E[3m:\\\\\\n\\t:se=\\\\E[23m:mb=\\\\E[5m:md=\\\\E[1m:mh=\\\\E[2m:mr=\\\\E[7m:\\\\\\n\\t:me=\\\\E[m:ms:\\\\\\n\\t:Co#8:pa#64:AF=\\\\E[3%dm:AB=\\\\E[4%dm:op=\\\\E[39;49m:AX:\\\\\\n\\t:vb=\\\\Eg:G0:as=\\\\E(0:ae=\\\\E(B:\\\\\\n\\t:ac=\\\\140\\\\140aaffggjjkkllmmnnooppqqrrssttuuvvwwxxyyzz{{||}}~~..--++,,hhII00:\\\\\\n\\t:po=\\\\E[5i:pf=\\\\E[4i:Km=\\\\E[M:k0=\\\\E[10~:k1=\\\\EOP:k2=\\\\EOQ:\\\\\\n\\t:k3=\\\\EOR:k4=\\\\EOS:k5=\\\\E[15~:k6=\\\\E[17~:k7=\\\\E[18~:\\\\\\n\\t:k8=\\\\E[19~:k9=\\\\E[20~:k;=\\\\E[21~:F1=\\\\E[23~:F2=\\\\E[24~:\\\\\\n\\t:F3=\\\\E[1;2P:F4=\\\\E[1;2Q:F5=\\\\E[1;2R:F6=\\\\E[1;2S:\\\\\\n\\t:F7=\\\\E[15;2~:F8=\\\\E[17;2~:F9=\\\\E[18;2~:FA=\\\\E[19;2~:kb=\\x7f:\\\\\\n\\t:K2=\\\\EOE:kB=\\\\E[Z:kF=\\\\E[1;2B:kR=\\\\E[1;2A:*4=\\\\E[3;2~:\\\\\\n\\t:*7=\\\\E[1;2F:#2=\\\\E[1;2H:#3=\\\\E[2;2~:#4=\\\\E[1;2D:%c=\\\\E[6;2~:\\\\\\n\\t:%e=\\\\E[5;2~:%i=\\\\E[1;2C:kh=\\\\E[1~:@1=\\\\E[1~:kH=\\\\E[4~:\\\\\\n\\t:@7=\\\\E[4~:kN=\\\\E[6~:kP=\\\\E[5~:kI=\\\\E[2~:kD=\\\\E[3~:ku=\\\\EOA:\\\\\\n\\t:kd=\\\\EOB:kr=\\\\EOC:kl=\\\\EOD:km:',\n",
       " 'DEFAULTS_PATH': '/usr/share/gconf/ubuntu.default.path',\n",
       " 'XDG_CONFIG_DIRS': '/etc/xdg/xdg-ubuntu:/usr/share/upstart/xdg:/etc/xdg',\n",
       " '_CE_CONDA': '',\n",
       " 'CONDA_PREFIX_1': '/home/bhootmali/anaconda3',\n",
       " 'PATH': '/home/bhootmali/.dynamic-colors/bin:/usr/local/texlive/2017/bin/x86_64-linux:/usr/local/cuda-9.0/bin:/home/bhootmali/anaconda3/envs/torchflow/bin:/home/bhootmali/anaconda3/condabin:/home/bhootmali/.dynamic-colors/bin:/usr/local/texlive/2017/bin/x86_64-linux:/usr/local/cuda-9.0/bin:/home/bhootmali/bin:/home/bhootmali/.local/bin:/usr/local/sbin:/usr/local/bin:/usr/sbin:/usr/bin:/sbin:/bin:/usr/games:/usr/local/games:/snap/bin',\n",
       " 'DESKTOP_SESSION': 'ubuntu',\n",
       " 'STY': '13565.pts-24.seti',\n",
       " 'QT_QPA_PLATFORMTHEME': 'appmenu-qt5',\n",
       " 'QT_IM_MODULE': 'ibus',\n",
       " 'LC_IDENTIFICATION': 'ja_JP.UTF-8',\n",
       " 'CONDA_PREFIX': '/home/bhootmali/anaconda3/envs/torchflow',\n",
       " 'JOB': 'gnome-session',\n",
       " 'PWD': '/home/bhootmali/repos/pytorch_tutorials',\n",
       " 'XDG_SESSION_TYPE': 'x11',\n",
       " 'XMODIFIERS': '@im=ibus',\n",
       " 'LANG': 'en_US.UTF-8',\n",
       " 'GNOME_KEYRING_PID': '',\n",
       " 'MANDATORY_PATH': '/usr/share/gconf/ubuntu.mandatory.path',\n",
       " 'GDM_LANG': 'en_US',\n",
       " 'LC_MEASUREMENT': 'ja_JP.UTF-8',\n",
       " 'IM_CONFIG_PHASE': '1',\n",
       " 'COMPIZ_CONFIG_PROFILE': 'ubuntu',\n",
       " 'PS1': '(torchflow) \\\\[\\\\e[1;36m\\\\][\\\\u@\\\\h:\\\\w]$ \\\\[\\\\e[m \\\\]',\n",
       " 'GDMSESSION': 'ubuntu',\n",
       " '_CE_M': '',\n",
       " 'GTK2_MODULES': 'overlay-scrollbar',\n",
       " 'SESSIONTYPE': 'gnome-session',\n",
       " 'XDG_SEAT': 'seat0',\n",
       " 'HOME': '/home/bhootmali',\n",
       " 'SHLVL': '2',\n",
       " 'LANGUAGE': 'en_US',\n",
       " 'GNOME_DESKTOP_SESSION_ID': 'this-is-deprecated',\n",
       " 'UPSTART_INSTANCE': '',\n",
       " 'LOGNAME': 'bhootmali',\n",
       " 'XDG_SESSION_DESKTOP': 'ubuntu',\n",
       " 'UPSTART_EVENTS': 'started starting',\n",
       " 'CONDA_PYTHON_EXE': '/home/bhootmali/anaconda3/bin/python',\n",
       " 'WINDOW': '1',\n",
       " 'QT4_IM_MODULE': 'xim',\n",
       " 'XDG_DATA_DIRS': '/usr/share/ubuntu:/usr/share/gnome:/usr/local/share:/usr/share:/var/lib/snapd/desktop:/var/lib/snapd/desktop',\n",
       " 'DBUS_SESSION_BUS_ADDRESS': 'unix:abstract=/tmp/dbus-dSiUxa55MH',\n",
       " 'LESSOPEN': '| /usr/bin/lesspipe %s',\n",
       " 'CONDA_DEFAULT_ENV': 'torchflow',\n",
       " 'PROMPT_COMMAND': 'history -a; history -c; history -r; history -a; history -c; history -r; ',\n",
       " 'UPSTART_JOB': 'unity-settings-daemon',\n",
       " 'INSTANCE': 'Unity',\n",
       " 'DISPLAY': ':0',\n",
       " 'XDG_RUNTIME_DIR': '/run/user/1000',\n",
       " 'GTK_IM_MODULE': 'ibus',\n",
       " 'XDG_CURRENT_DESKTOP': 'Unity',\n",
       " 'LC_TIME': 'ja_JP.UTF-8',\n",
       " 'LESSCLOSE': '/usr/bin/lesspipe %s %s',\n",
       " 'XAUTHORITY': '/home/bhootmali/.Xauthority',\n",
       " 'LC_NAME': 'ja_JP.UTF-8',\n",
       " '_': '/home/bhootmali/anaconda3/envs/torchflow/bin/jupyter',\n",
       " 'KERNEL_LAUNCH_TIMEOUT': '40',\n",
       " 'JPY_PARENT_PID': '13926',\n",
       " 'CLICOLOR': '1',\n",
       " 'PAGER': 'cat',\n",
       " 'GIT_PAGER': 'cat',\n",
       " 'MPLBACKEND': 'module://ipykernel.pylab.backend_inline'}"
      ]
     },
     "execution_count": 3,
     "metadata": {},
     "output_type": "execute_result"
    }
   ],
   "source": [
    "%env"
   ]
  },
  {
   "cell_type": "code",
   "execution_count": null,
   "metadata": {},
   "outputs": [],
   "source": []
  }
 ],
 "metadata": {
  "kernelspec": {
   "display_name": "Python 3",
   "language": "python",
   "name": "python3"
  },
  "language_info": {
   "codemirror_mode": {
    "name": "ipython",
    "version": 3
   },
   "file_extension": ".py",
   "mimetype": "text/x-python",
   "name": "python",
   "nbconvert_exporter": "python",
   "pygments_lexer": "ipython3",
   "version": "3.6.8"
  }
 },
 "nbformat": 4,
 "nbformat_minor": 4
}
